{
 "cells": [
  {
   "cell_type": "markdown",
   "metadata": {},
   "source": [
    "# Project task 01: Near duplicate detection with LSH"
   ]
  },
  {
   "cell_type": "code",
   "execution_count": null,
   "metadata": {},
   "outputs": [],
   "source": [
    "import gzip\n",
    "import tarfile\n",
    "\n",
    "import numpy as np\n",
    "import pandas as pd\n",
    "import time\n",
    "\n",
    "from sklearn import preprocessing\n",
    "from collections import defaultdict\n",
    "\n",
    "import matplotlib.pyplot as plt\n",
    "%matplotlib inline"
   ]
  },
  {
   "cell_type": "markdown",
   "metadata": {},
   "source": [
    "To goal of this task is to find near duplicate songs in the Million Song dataset. You can imagine a scenario were the same song appears on multiple different releases with only small feature variation (e.g. duration or loudness)."
   ]
  },
  {
   "cell_type": "markdown",
   "metadata": {},
   "source": [
    "## 1. Load data and extract the data"
   ]
  },
  {
   "cell_type": "markdown",
   "metadata": {},
   "source": [
    "We'll be working with the Million Songs Dataset, a freely-available collection of audio features and metadata for a million contemporary popular music tracks.\n",
    "\n",
    "Specifically, we will work with a smaller subset of 10 000 songs ([download link](http://static.echonest.com/millionsongsubset_full.tar.gz))."
   ]
  },
  {
   "cell_type": "code",
   "execution_count": null,
   "metadata": {},
   "outputs": [],
   "source": [
    "tar = tarfile.open('millionsongsubset_full.tar.gz', 'r')\n",
    "members = tar.getmembers()"
   ]
  },
  {
   "cell_type": "code",
   "execution_count": null,
   "metadata": {},
   "outputs": [],
   "source": [
    "tar.extract(members[5])\n",
    "summary = pd.HDFStore(members[5].name)\n",
    "songs = summary['/analysis/songs']"
   ]
  },
  {
   "cell_type": "markdown",
   "metadata": {},
   "source": [
    "Show a snippet of how the data looks like:"
   ]
  },
  {
   "cell_type": "code",
   "execution_count": null,
   "metadata": {},
   "outputs": [],
   "source": [
    "songs.head()"
   ]
  },
  {
   "cell_type": "markdown",
   "metadata": {
    "collapsed": true
   },
   "source": [
    "We should have $31$ columns and $10~000$ rows."
   ]
  },
  {
   "cell_type": "code",
   "execution_count": null,
   "metadata": {},
   "outputs": [],
   "source": [
    "print(len(songs))"
   ]
  },
  {
   "cell_type": "markdown",
   "metadata": {},
   "source": [
    "Since not all features are important we are going to consider a subset of features (columns) that are relevant for duplicate detection.\n",
    "\n",
    "We will also convert the pandas dataframe into a numpy array so it is easier to work with."
   ]
  },
  {
   "cell_type": "code",
   "execution_count": null,
   "metadata": {},
   "outputs": [],
   "source": [
    "subset = songs[['duration', 'end_of_fade_in', 'key', 'loudness',\n",
    "                'mode', 'start_of_fade_out', 'tempo', 'time_signature',]]\n",
    "\n",
    "data_matrix = subset.values"
   ]
  },
  {
   "cell_type": "markdown",
   "metadata": {},
   "source": [
    "Additionally we will standardize the data to have zero mean and unit variance as a preprocessing step."
   ]
  },
  {
   "cell_type": "code",
   "execution_count": null,
   "metadata": {},
   "outputs": [],
   "source": [
    "scaled_data = preprocessing.scale(data_matrix)"
   ]
  },
  {
   "cell_type": "markdown",
   "metadata": {},
   "source": [
    "## 2. Implementaion\n",
    "\n",
    "Your task is to implement near duplicate detection using LSH with cosine similarity.\n",
    "More specifically you have to:\n",
    "* Generate duplicate **candidates** based on LSH with $b$ bands and $r$ rows per band\n",
    "* Refine the candidates by computing the exact cosine distance\n",
    "* Report all pairs/duplicates with cosine distance < $d$"
   ]
  },
  {
   "cell_type": "markdown",
   "metadata": {},
   "source": [
    "Implement a function that computes the cosine distance between two rows (instances) in the data."
   ]
  },
  {
   "cell_type": "code",
   "execution_count": null,
   "metadata": {},
   "outputs": [],
   "source": [
    "def cosine_distance(X, i, j):\n",
    "    \"\"\"Compute cosine distance between two rows of a data matrix.\n",
    "    \n",
    "    Parameters\n",
    "    ----------\n",
    "    X : np.array, shape [N, D]\n",
    "        Data matrix.\n",
    "    i : int\n",
    "        Index of the first row.\n",
    "    j : int\n",
    "        Index of the second row.\n",
    "        \n",
    "    Returns\n",
    "    -------\n",
    "    d : float\n",
    "        Cosine distance between the two rows of the data matrix.\n",
    "        \n",
    "    \"\"\"\n",
    "    d = None\n",
    "    \n",
    "    ### YOUR CODE HERE ###\n",
    "    d = 1 - np.dot(X[i], X[j])/(np.sqrt(np.dot(X[i], X[i]))*np.sqrt(np.dot(X[j], X[j])))\n",
    "    return d"
   ]
  },
  {
   "cell_type": "markdown",
   "metadata": {},
   "source": [
    "Cosine distance between the 5-th and the 28-th instance"
   ]
  },
  {
   "cell_type": "code",
   "execution_count": null,
   "metadata": {},
   "outputs": [],
   "source": [
    "print('{:.4f}'.format(cosine_distance(scaled_data, 5, 28)))"
   ]
  },
  {
   "cell_type": "code",
   "execution_count": null,
   "metadata": {},
   "outputs": [],
   "source": [
    "def LSH(X, b=8, r=32, d=0.3):\n",
    "    \"\"\"Find candidate duplicate pairs using LSH and refine using exact cosine distance.\n",
    "    \n",
    "    Parameters\n",
    "    ----------\n",
    "    X : np.array shape [N, D]\n",
    "        Data matrix.\n",
    "    b : int\n",
    "        Number of bands.\n",
    "    r : int\n",
    "        Number of rows per band.\n",
    "    d : float\n",
    "        Distance treshold for reporting duplicates.\n",
    "    \n",
    "    Returns\n",
    "    -------\n",
    "    duplicates : {(ID1, ID2, d_{12}), ..., (IDX, IDY, d_{xy})}\n",
    "        A set of tuples indicating the detected duplicates.\n",
    "        Each tuple should have 3 elements:\n",
    "            * ID of the first song\n",
    "            * ID of the second song\n",
    "            * The cosine distance between them\n",
    "    \n",
    "    n_candidates : int\n",
    "        Number of detected candidate pairs.\n",
    "        \n",
    "    \"\"\"\n",
    "    np.random.seed(158)\n",
    "    n_candidates = 0\n",
    "    duplicates = set()\n",
    "\n",
    "    ### YOUR CODE HERE ###\n",
    "    \n",
    "    h=[]\n",
    "    no_rand_vec=r*b\n",
    "    dim=X.shape[1]\n",
    "    N=X.shape[0]\n",
    "    \n",
    "    # Generate r*b random vectors h_i from normal distribution\n",
    "    h=np.random.normal(0, 1, (no_rand_vec, dim))\n",
    "        \n",
    "    \n",
    "    # compute signature matrix for cosine simularity\n",
    "    sig_matrix=np.dot(X, h.T)\n",
    "    sig_matrix[sig_matrix>0]=1\n",
    "    sig_matrix[sig_matrix<0]=-1\n",
    "    \n",
    "    sig_matrix=sig_matrix.T\n",
    "    \n",
    "    candidates=set()\n",
    "    \n",
    "    for current_band in range(b):\n",
    "        hash_table=[]\n",
    "        ID=[]\n",
    "        for n in range(N):\n",
    "            current_signature=np.matrix.flatten(sig_matrix[current_band*r:current_band*r+r,n:n+1])\n",
    "            current_hash=hash(tuple(current_signature))\n",
    "            if current_hash in hash_table:\n",
    "                for i in range(len(hash_table)):\n",
    "                    if current_hash==hash_table[i]:\n",
    "                        candidates.add((ID[i], n))\n",
    "                        distance=cosine_distance(X, ID[i], n)\n",
    "                        if cosine_distance(X, ID[i], n) <=d:\n",
    "                            duplicates.add((ID[i], n, distance))\n",
    "            else:\n",
    "                hash_table.append(current_hash)\n",
    "                ID.append(n)\n",
    "    \n",
    "    n_candidates=len(candidates)\n",
    "    \n",
    "    return duplicates, n_candidates"
   ]
  },
  {
   "cell_type": "code",
   "execution_count": null,
   "metadata": {},
   "outputs": [],
   "source": [
    "duplicates, n_candidates = LSH(scaled_data, b=3, r=64, d=0.0003)"
   ]
  },
  {
   "cell_type": "code",
   "execution_count": null,
   "metadata": {},
   "outputs": [],
   "source": [
    "print('We detected {} candidates.'.format(n_candidates))"
   ]
  },
  {
   "cell_type": "markdown",
   "metadata": {},
   "source": [
    "Show the duplicates we have found:"
   ]
  },
  {
   "cell_type": "code",
   "execution_count": null,
   "metadata": {},
   "outputs": [],
   "source": [
    "duplicates"
   ]
  },
  {
   "cell_type": "markdown",
   "metadata": {},
   "source": [
    "Show the metadata for the songs that were detected as duplicates:"
   ]
  },
  {
   "cell_type": "code",
   "execution_count": null,
   "metadata": {
    "scrolled": false
   },
   "outputs": [],
   "source": [
    "for i, j, d in duplicates:\n",
    "    print('Song ID 1: {}'.format(i),\n",
    "          'Song ID 2: {}'.format(j),\n",
    "          'Distance: {:.6f}'.format(d),\n",
    "          summary['/metadata/songs'].loc[i][['title', 'artist_name']].str.cat(sep=' - '),\n",
    "          summary['/metadata/songs'].loc[j][['title', 'artist_name']].str.cat(sep=' - '), sep='\\n')\n",
    "    print()"
   ]
  },
  {
   "cell_type": "markdown",
   "metadata": {},
   "source": [
    "## 3. Compare runtime"
   ]
  },
  {
   "cell_type": "markdown",
   "metadata": {},
   "source": [
    "Your task is to implement code for runtime comparison between LSH and the naive nested for loop implementation."
   ]
  },
  {
   "cell_type": "code",
   "execution_count": null,
   "metadata": {},
   "outputs": [],
   "source": [
    "# naively compute the duplicates using a double for loop\n",
    "def naive_duplicates(X, d = 0.2):\n",
    "    \"\"\"\n",
    "    Parameters\n",
    "    ----------\n",
    "    X : np.array, shape [N, D]\n",
    "        Data matrix.\n",
    "    d : float\n",
    "        Distance treshold for reporting duplicates.\n",
    "    \n",
    "    Returns\n",
    "    -------\n",
    "    duplicates : {(ID1, ID2, d_{12}), ..., (IDX, IDY, d_{xy})}\n",
    "        A set of tuples indicating the detected duplicates.\n",
    "        Each tuple should have 3 elements:\n",
    "            * ID of the first song\n",
    "            * ID of the second song\n",
    "            * The cosine distance between them\n",
    "    \"\"\"\n",
    "    N = X.shape[0]\n",
    "    duplicates = set()\n",
    "    for i in range(N):\n",
    "        for j in range(N):\n",
    "            d_ij = cosine_distance(X, i, j)\n",
    "            if d_ij < d and i != j:\n",
    "                duplicates.add((i, j, d_ij))\n",
    "    return duplicates"
   ]
  },
  {
   "cell_type": "code",
   "execution_count": null,
   "metadata": {},
   "outputs": [],
   "source": [
    "def runtime_comparison(X):\n",
    "    \"\"\"\n",
    "    Compare the runtime between LSH and the naive approach.\n",
    "    \n",
    "    Returns\n",
    "    -------\n",
    "    trace : [(n1, lsh_dur, naive_dur), (n2, lsh_dur, naive_dur), ... ]\n",
    "            A list of tuples with execution times for different number of songs.\n",
    "            Each tuple should have 3 elements:\n",
    "                * number of songs considered\n",
    "                * duration of the LSH approach\n",
    "                * duration of the naive approach\n",
    "    \"\"\"\n",
    "    trace = []\n",
    "    for n in np.arange(25, 251, 25):\n",
    "        print('Running comparison for {} songs.'.format(n))\n",
    "        \n",
    "        ### YOUR CODE HERE ###\n",
    "        \n",
    "        lsh_start_time=time.process_time()\n",
    "        LSH(X[0:n])\n",
    "        lsh_duration=time.process_time() - lsh_start_time\n",
    "        \n",
    "        naive_start_time=time.process_time()\n",
    "        naive_duplicates(X[0:n], d=0.3)\n",
    "        naive_duration=time.process_time() - naive_start_time\n",
    "        \n",
    "        trace.append((n, lsh_duration, naive_duration))\n",
    "        \n",
    "    return trace"
   ]
  },
  {
   "cell_type": "code",
   "execution_count": null,
   "metadata": {
    "scrolled": true
   },
   "outputs": [],
   "source": [
    "trace = runtime_comparison(scaled_data)"
   ]
  },
  {
   "cell_type": "markdown",
   "metadata": {},
   "source": [
    "Plot the differecene in runtime. On the x-axis plot the number of songs processed and on the y-axis plot the runtime in seconds for both approaches. You should obtain a plot similar to the one shown below."
   ]
  },
  {
   "cell_type": "code",
   "execution_count": null,
   "metadata": {},
   "outputs": [],
   "source": [
    "### YOUR PLOTTING CODE HERE ###\n",
    "    \n",
    "trace_arr=np.array(trace)\n",
    "        \n",
    "plt.plot(trace_arr[0:,0:1], trace_arr[0:,1:2], 'b')\n",
    "plt.plot(trace_arr[0:,0:1], trace_arr[0:,2:3], 'r')\n",
    "\n",
    "plt.title(\"Runtime comparison\")\n",
    "plt.xlabel(\"Number of songs processed\")\n",
    "plt.ylabel(\"Time in seconds\")\n",
    "plt.legend(labels=[\"LSH\", \"Naive\"])\n",
    "\n",
    "plt.show"
   ]
  }
 ],
 "metadata": {
  "kernelspec": {
   "display_name": "Python 3",
   "language": "python",
   "name": "python3"
  },
  "language_info": {
   "codemirror_mode": {
    "name": "ipython",
    "version": 3
   },
   "file_extension": ".py",
   "mimetype": "text/x-python",
   "name": "python",
   "nbconvert_exporter": "python",
   "pygments_lexer": "ipython3",
   "version": "3.7.3"
  }
 },
 "nbformat": 4,
 "nbformat_minor": 2
}

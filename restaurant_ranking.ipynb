{
 "cells": [
  {
   "cell_type": "markdown",
   "metadata": {},
   "source": [
    "# Project task 04:  Restaurant ranking"
   ]
  },
  {
   "cell_type": "code",
   "execution_count": null,
   "metadata": {},
   "outputs": [],
   "source": [
    "import numpy as np\n",
    "import scipy.sparse as sp"
   ]
  },
  {
   "cell_type": "markdown",
   "metadata": {},
   "source": [
    "The goal of this task is to rank restaurants using the **PageRank** algorithm. You are given a directed weighted graph where each node represents one restaurant. The edges in this graph are based on users reviews.\n",
    "\n",
    "Additionally for each restaurant you are given the categories it belongs to, i.e. 'Mexican', 'Italian', etc. Note that each restaurant can belong to multiple categories.\n",
    "\n",
    "Considering these categories as topics you will perform **topic-sensitive PageRank**, enabling you to e.g. find the top 10 'Mexican' restaurants."
   ]
  },
  {
   "cell_type": "markdown",
   "metadata": {},
   "source": [
    "## 1. Load data\n",
    "\n",
    "* The graph is stored as a sparse adjacency matrix $A$\n",
    "* The categories are stored in a binary sparse matrix $C$, with $C_{ij}=1$ indicating that restaurant $i$ belongs to category $j$\n",
    "* We also provide you with a dictionary mapping each category to its corresponding column index in $C$\n",
    "* The name of each restaurant is provided as a list, with the i-th element in the list corresponding to the i-th node in the graph"
   ]
  },
  {
   "cell_type": "code",
   "execution_count": null,
   "metadata": {},
   "outputs": [],
   "source": [
    "A = sp.load_npz('restaurant_graph.npz')\n",
    "A"
   ]
  },
  {
   "cell_type": "code",
   "execution_count": null,
   "metadata": {},
   "outputs": [],
   "source": [
    "C = sp.load_npz('restaurant_categories.npz')\n",
    "C"
   ]
  },
  {
   "cell_type": "code",
   "execution_count": null,
   "metadata": {},
   "outputs": [],
   "source": [
    "categories = np.load('categories.npy').tolist()\n",
    "categories['Mexican'], categories['Chinese']"
   ]
  },
  {
   "cell_type": "code",
   "execution_count": null,
   "metadata": {},
   "outputs": [],
   "source": [
    "names = np.load('restaurant_names.npy')\n",
    "names[:3]"
   ]
  },
  {
   "cell_type": "code",
   "execution_count": null,
   "metadata": {},
   "outputs": [],
   "source": [
    "assert A.shape[0] == len(names) == C.shape[0]\n",
    "assert C.shape[1] == len(categories)"
   ]
  },
  {
   "cell_type": "markdown",
   "metadata": {},
   "source": [
    " ## 2. Determine the teleport set\n",
    " \n",
    "\n",
    "Given a list of topics of intereset, i.e. `['Mexican', 'Italian', ...]`, implement a helper function to return all the restaurants that belong to **at least one** of these topics. These restaurants will become part of the teleport set in topic-sensitive PageRank."
   ]
  },
  {
   "cell_type": "code",
   "execution_count": null,
   "metadata": {},
   "outputs": [],
   "source": [
    "def teleport_set(C, topics, categories):\n",
    "    \"\"\"\n",
    "    Finds the teleport set consisting of restaurants that belong to at least one of the specified topics.\n",
    "    \n",
    "    Parameters\n",
    "    ----------\n",
    "    C             : sp.spmatrix, shape [num_restaurants, num_categories]\n",
    "                    Binary matrix encoding which restaurants belongs to which categories.\n",
    "    topics        : List[string]\n",
    "                    List of topics of interest.\n",
    "    categories    : dict(string, int)\n",
    "                    Dictionary mapping each category to its corresponding column index in C.\n",
    "        \n",
    "    Returns\n",
    "    -------\n",
    "    teleport_idx : np.array, shape [S]\n",
    "                   The indicies of the nodes in the teleport set.\n",
    "    \"\"\"\n",
    "    #### YOUR CODE ####\n",
    "    \n",
    "    teleport_idx=[]\n",
    "    \n",
    "    teleport_idx = [node for topic in topics for node in sp.find(C[:,categories[topic]])[0]]\n",
    "    \n",
    "    return np.array(teleport_idx)"
   ]
  },
  {
   "cell_type": "markdown",
   "metadata": {},
   "source": [
    " ## 3. Implement topic-sensitive PageRank"
   ]
  },
  {
   "cell_type": "code",
   "execution_count": null,
   "metadata": {},
   "outputs": [],
   "source": [
    "def page_rank(A, beta, teleport_idx=None, eps=1e-12):\n",
    "    \"\"\"\n",
    "    Implements topic-sensitive PageRank using power iteration and sparse matrix operations.\n",
    "    \n",
    "    Parameters\n",
    "    ----------\n",
    "    A           : sp.spmatrix, shape [num_restaurants, num_restaurants]\n",
    "                  The adjacency matrix representing the graph of restaurants.\n",
    "    beta        : float, \n",
    "                  0 < beta < 1, (1-beta) is the probabilty of teleporting to the nodes in the teleport set\n",
    "    teleport_idx: np.array, shape [S]\n",
    "                  The indicies of the nodes in the teleport set. If it equals to None\n",
    "                  it means runs standard PageRank, i.e. all nodes are in the teleport set.\n",
    "    \n",
    "    Returns\n",
    "    -------\n",
    "    r          : np.array, shape [num_restaurants]\n",
    "                 The page rank vector containing the page rank scores for each restaurant.\n",
    "    \"\"\"\n",
    "    \n",
    "    #### YOUR CODE ####\n",
    "    \n",
    "    b=1/np.sum(A,0)\n",
    "    B=np.diagflat(b)\n",
    "    M=sp.csc_matrix(sp.csc_matrix.dot(A,B))\n",
    "    N=A.shape[0]\n",
    "    \n",
    "    if teleport_idx is None: #\"Normal\" PageRank\n",
    "        r=np.transpose(np.ones(N)/N)\n",
    "        r_tmp=np.transpose(np.zeros(N))\n",
    "    else: #Topic-Sensitive PageRank\n",
    "        S=len(teleport_idx)\n",
    "        r=np.transpose(np.zeros(N))\n",
    "        for idx in teleport_idx: \n",
    "            r[idx]=1/S\n",
    "    \n",
    "    r_tmp=np.transpose(np.zeros(N))\n",
    "    add_vec=r\n",
    "    while np.linalg.norm(r-r_tmp)>=eps:\n",
    "        r_tmp=r\n",
    "        r=np.add(beta*M.dot(r),(1-beta)*add_vec)\n",
    "    \n",
    "    return r"
   ]
  },
  {
   "cell_type": "markdown",
   "metadata": {},
   "source": [
    "### 3.1 Calculate the standard PageRank scores and print the names of the top 5 restaurants overall"
   ]
  },
  {
   "cell_type": "code",
   "execution_count": null,
   "metadata": {},
   "outputs": [],
   "source": [
    "idx_to_category = {v:k for k, v in categories.items()}"
   ]
  },
  {
   "cell_type": "code",
   "execution_count": null,
   "metadata": {},
   "outputs": [],
   "source": [
    "r = page_rank(A=A, beta=0.6, teleport_idx=None)\n",
    "\n",
    "for i, x in enumerate(r.argsort()[-5:]):\n",
    "    print(i+1, names[x], '\\n  Categories: ', [idx_to_category[cat] for cat in C[x].nonzero()[1]])"
   ]
  },
  {
   "cell_type": "markdown",
   "metadata": {},
   "source": [
    "### 3.2 Calculate the topic-sensitive PageRank scores and print the names of top 5 Mexican restaurants"
   ]
  },
  {
   "cell_type": "code",
   "execution_count": null,
   "metadata": {},
   "outputs": [],
   "source": [
    "teleport_idx = teleport_set(C, ['Mexican'], categories)\n",
    "r = page_rank(A=A, beta=0.6, teleport_idx=teleport_idx)\n",
    "\n",
    "for i, x in enumerate(r.argsort()[-5:]):\n",
    "    print(i+1, names[x], '\\n  Categories: ', [idx_to_category[cat] for cat in C[x].nonzero()[1]])"
   ]
  },
  {
   "cell_type": "markdown",
   "metadata": {},
   "source": [
    "### 3.3 Calculate the topic-sensitive PageRank scores and print the names of top 5 Italian or French restaurants\n"
   ]
  },
  {
   "cell_type": "code",
   "execution_count": null,
   "metadata": {},
   "outputs": [],
   "source": [
    "teleport_idx = teleport_set(C, ['Italian', 'French'], categories)\n",
    "r = page_rank(A=A, beta=0.6, teleport_idx=teleport_idx)\n",
    "\n",
    "for i, x in enumerate(r.argsort()[-5:]):\n",
    "    print(i+1, names[x], '\\n  Categories: ', [idx_to_category[cat] for cat in C[x].nonzero()[1]])"
   ]
  }
 ],
 "metadata": {
  "kernelspec": {
   "display_name": "Python 3",
   "language": "python",
   "name": "python3"
  },
  "language_info": {
   "codemirror_mode": {
    "name": "ipython",
    "version": 3
   },
   "file_extension": ".py",
   "mimetype": "text/x-python",
   "name": "python",
   "nbconvert_exporter": "python",
   "pygments_lexer": "ipython3",
   "version": "3.7.3"
  }
 },
 "nbformat": 4,
 "nbformat_minor": 2
}
